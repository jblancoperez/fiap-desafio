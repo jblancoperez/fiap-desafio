{
 "cells": [
  {
   "cell_type": "code",
   "execution_count": null,
   "metadata": {
    "id": "uXT_xB7FbtLE"
   },
   "outputs": [],
   "source": [
    "from matplotlib import pyplot as plt\n",
    "import pandas as pd\n",
    "from pandas import read_csv\n",
    "from pandas import set_option\n",
    "import seaborn as sb\n",
    "\n",
    "from sklearn.preprocessing import MinMaxScaler\n",
    "from sklearn.model_selection import train_test_split\n",
    "from sklearn.metrics import median_absolute_error, mean_squared_error\n",
    "from keras.models import Sequential\n",
    "from keras.layers import Dense\n",
    "#necessita do pydot pip install pydot\n",
    "from keras.utils import plot_model\n"
   ]
  },
  {
   "cell_type": "code",
   "execution_count": null,
   "metadata": {
    "id": "Y08lGEoxciu5"
   },
   "outputs": [],
   "source": [
    "# Load dataset\n",
    "filename = (\"https://telescopeinstorage.blob.core.windows.net/datasets/housing.csv\")\n",
    "names = ['CRIM', 'ZN', 'INDUS', 'CHAS', 'NOX', 'RM', 'AGE', 'DIS', 'RAD', 'TAX', 'PTRATIO', 'B', 'LSTAT', 'MEDV']\n",
    "dataset = read_csv(filename, delim_whitespace=True, names=names,engine='python')\n"
   ]
  },
  {
   "cell_type": "code",
   "execution_count": null,
   "metadata": {
    "id": "EZZXkUKFc7Z6"
   },
   "outputs": [],
   "source": [
    "#- CRIM     per capita crime rate by town\n",
    "#- ZN       proportion of residential land zoned for lots over 25,000 sq.ft.\n",
    "#- INDUS    proportion of non-retail business acres per town\n",
    "#- CHAS     Charles River dummy variable (= 1 if tract bounds river; 0 otherwise)\n",
    "#- NOX      nitric oxides concentration (parts per 10 million)\n",
    "#- RM       average number of rooms per dwelling -  é o número médio de cômodos entre os imóveis na vizinhança.\n",
    "#- AGE      proportion of owner-occupied units built prior to 1940\n",
    "#- DIS      weighted distances to five Boston employment centres\n",
    "#- RAD      index of accessibility to radial highways\n",
    "#- TAX      full-value property-tax rate per $10,000\n",
    "#- PTRATIO  pupil-teacher ratio by town - é a razão de estudantes para professores nas escolas de ensino fundamental e médio na vizinhança.\n",
    "#- B        1000(Bk - 0.63)^2 where Bk is the proportion of blacks by town\n",
    "#- LSTAT    % lower status of the population - é a porcentagem de proprietários na vizinhança considerados de \"classe baixa\" (proletariado).\n",
    "#- MEDV     Median value of owner-occupied homes in $1000's\n",
    "\n",
    "dataset.head(20)"
   ]
  },
  {
   "cell_type": "code",
   "execution_count": null,
   "metadata": {
    "id": "MmJXQocGdIPn"
   },
   "outputs": [],
   "source": [
    "corr = dataset.corr(method='pearson')\n",
    "plt.figure(figsize=(10, 10))\n",
    "sb.heatmap(corr, annot = True)  "
   ]
  },
  {
   "cell_type": "code",
   "execution_count": null,
   "metadata": {
    "id": "mT6JdrzNebxg"
   },
   "outputs": [],
   "source": [
    "prices = dataset['MEDV']\n",
    "# Exclusão das caracteristicas com alta correlação\n",
    "dataset = dataset.drop(['INDUS','NOX','AGE','RAD'], axis = 1)\n",
    "features = dataset.drop('MEDV', axis = 1)\n",
    "dataset.head()"
   ]
  },
  {
   "cell_type": "code",
   "execution_count": null,
   "metadata": {
    "id": "V_SyfGHXfCUt"
   },
   "outputs": [],
   "source": [
    "features.head()"
   ]
  },
  {
   "cell_type": "code",
   "execution_count": null,
   "metadata": {
    "id": "az7Q0SXFe7f3"
   },
   "outputs": [],
   "source": [
    "# Split-out validation dataset\n",
    "seed = 7\n",
    "test_size = 0.30\n",
    "\n",
    "X = features.values\n",
    "y = prices.values"
   ]
  },
  {
   "cell_type": "code",
   "execution_count": null,
   "metadata": {
    "id": "EASGWLA8fLUg"
   },
   "outputs": [],
   "source": [
    "scalar = MinMaxScaler()\n",
    "X = scalar.fit_transform(X)\n",
    "\n",
    "X_train, X_test, y_train, y_test = train_test_split(X, y, test_size=test_size, random_state=seed)\n"
   ]
  },
  {
   "cell_type": "code",
   "execution_count": null,
   "metadata": {
    "colab": {
     "base_uri": "https://localhost:8080/",
     "height": 34
    },
    "id": "eAFceJMTfoS0",
    "outputId": "a0df4dc3-d15e-4601-d4d2-da0c705ca55d"
   },
   "outputs": [
    {
     "data": {
      "text/plain": [
       "9"
      ]
     },
     "execution_count": 39,
     "metadata": {
      "tags": []
     },
     "output_type": "execute_result"
    }
   ],
   "source": [
    "qtd_features = len(X[0,:])\n",
    "qtd_features"
   ]
  },
  {
   "cell_type": "code",
   "execution_count": null,
   "metadata": {
    "id": "rRYzrjtufwP0"
   },
   "outputs": [],
   "source": [
    "model = Sequential()\n",
    "model.add(Dense(16, input_dim=qtd_features, activation='relu'))\n",
    "model.add(Dense(32, activation='relu'))\n",
    "#Adciona uma camada de saída sem função de ativação fazendo a apenas a multiplicação das caracteristicas x pesos\n",
    "model.add(Dense(1))"
   ]
  },
  {
   "cell_type": "code",
   "execution_count": null,
   "metadata": {
    "id": "7IFpFflEhOhV"
   },
   "outputs": [],
   "source": [
    "# Usa a função de perda mse (mean square error) e monitora o mae (mean absolute erro) e mse (mean square error)\n",
    "model.compile(loss='mse',optimizer='adam', metrics=['mae', 'mse'])"
   ]
  },
  {
   "cell_type": "code",
   "execution_count": null,
   "metadata": {
    "id": "M4DqRYgHiFIt"
   },
   "outputs": [],
   "source": [
    "plot_model(model, to_file='mlp-seq.png', show_shapes=True, show_layer_names=True)\n"
   ]
  },
  {
   "cell_type": "code",
   "execution_count": null,
   "metadata": {
    "id": "a_t-3xwviJag"
   },
   "outputs": [],
   "source": [
    "model.fit(X_train, y_train, epochs=200, batch_size=4)"
   ]
  },
  {
   "cell_type": "code",
   "execution_count": null,
   "metadata": {
    "id": "ntnZXHuxiSg1"
   },
   "outputs": [],
   "source": [
    "y_pred = model.predict(X_test)\n",
    "y_pred"
   ]
  },
  {
   "cell_type": "code",
   "execution_count": null,
   "metadata": {
    "id": "rNOCdClBibtJ"
   },
   "outputs": [],
   "source": [
    "print(median_absolute_error(y_test, y_pred))\n",
    "print(mean_squared_error(y_test, y_pred))"
   ]
  },
  {
   "cell_type": "code",
   "execution_count": null,
   "metadata": {
    "id": "jmKPAAjRigvo"
   },
   "outputs": [],
   "source": [
    "dfresult = pd.DataFrame({\n",
    "        \"Preço Original\": y_test,\n",
    "        \"Preço Predito\": y_pred[:,0]\n",
    "    })"
   ]
  },
  {
   "cell_type": "code",
   "execution_count": null,
   "metadata": {
    "id": "CV4h2vYuilGK"
   },
   "outputs": [],
   "source": [
    "dfresult.head()"
   ]
  },
  {
   "cell_type": "code",
   "execution_count": null,
   "metadata": {
    "id": "O-bdDmpuir3H"
   },
   "outputs": [],
   "source": [
    "\n",
    "dfresult.plot.bar(rot=0, figsize = (20,10))"
   ]
  },
  {
   "cell_type": "code",
   "execution_count": null,
   "metadata": {},
   "outputs": [],
   "source": [
    "  \n",
    "    \n",
    "    \n",
    "    tfp.layers.VariationalGaussianProcess(\n",
    "        num_inducing_points=num_inducing_points,\n",
    "        kernel_provider=RBFKernelFn(),\n",
    "        event_shape=[1],\n",
    "        inducing_index_points_initializer=tf.constant_initializer(\n",
    "            np.linspace(*x_range, num=num_inducing_points,\n",
    "                        dtype=x.dtype)[..., np.newaxis]),\n",
    "        unconstrained_observation_noise_variance_initializer=(\n",
    "            tf.constant_initializer(np.array(0.54).astype(x.dtype))),\n",
    "    )\n",
    "])"
   ]
  }
 ],
 "metadata": {
  "accelerator": "TPU",
  "colab": {
   "name": "Exemplo Regressão MLP dataset HousePricing.ipynb",
   "provenance": []
  },
  "kernelspec": {
   "display_name": "Python 3",
   "language": "python",
   "name": "python3"
  },
  "language_info": {
   "codemirror_mode": {
    "name": "ipython",
    "version": 3
   },
   "file_extension": ".py",
   "mimetype": "text/x-python",
   "name": "python",
   "nbconvert_exporter": "python",
   "pygments_lexer": "ipython3",
   "version": "3.7.9"
  }
 },
 "nbformat": 4,
 "nbformat_minor": 4
}
